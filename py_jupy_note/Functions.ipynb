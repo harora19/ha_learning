{
 "cells": [
  {
   "cell_type": "code",
   "execution_count": 1,
   "id": "8bca2ddf-3773-409a-954c-de89e6a5a98f",
   "metadata": {},
   "outputs": [],
   "source": [
    "mylist = [1,2,3]"
   ]
  },
  {
   "cell_type": "code",
   "execution_count": 2,
   "id": "ac5539dc-7140-44ab-9dab-5b3f744fc305",
   "metadata": {},
   "outputs": [],
   "source": [
    "mylist.append(4)"
   ]
  },
  {
   "cell_type": "code",
   "execution_count": 3,
   "id": "89aa1f12-b52e-4cdb-8605-75298f6c7290",
   "metadata": {},
   "outputs": [
    {
     "data": {
      "text/plain": [
       "[1, 2, 3, 4]"
      ]
     },
     "execution_count": 3,
     "metadata": {},
     "output_type": "execute_result"
    }
   ],
   "source": [
    "mylist"
   ]
  },
  {
   "cell_type": "code",
   "execution_count": 4,
   "id": "7b16a014-50ce-4dec-b522-8b8a184baa07",
   "metadata": {},
   "outputs": [
    {
     "data": {
      "text/plain": [
       "4"
      ]
     },
     "execution_count": 4,
     "metadata": {},
     "output_type": "execute_result"
    }
   ],
   "source": [
    "mylist.pop()"
   ]
  },
  {
   "cell_type": "code",
   "execution_count": 5,
   "id": "048c7bf9-e1be-463e-9416-49ea40134562",
   "metadata": {},
   "outputs": [
    {
     "data": {
      "text/plain": [
       "[1, 2, 3]"
      ]
     },
     "execution_count": 5,
     "metadata": {},
     "output_type": "execute_result"
    }
   ],
   "source": [
    "mylist"
   ]
  },
  {
   "cell_type": "code",
   "execution_count": 6,
   "id": "44ecfbe5-389b-4864-8858-c52ff21018c4",
   "metadata": {},
   "outputs": [
    {
     "name": "stdout",
     "output_type": "stream",
     "text": [
      "Help on built-in function insert:\n",
      "\n",
      "insert(index, object, /) method of builtins.list instance\n",
      "    Insert object before index.\n",
      "\n"
     ]
    }
   ],
   "source": [
    "help(mylist.insert)"
   ]
  },
  {
   "cell_type": "code",
   "execution_count": 10,
   "id": "c3709c93-19a2-4cc4-9375-d8301e073957",
   "metadata": {},
   "outputs": [],
   "source": [
    "def say_hello():\n",
    "    print(\"hello\")\n",
    "    print(\"how are\")\n",
    "    print(\"you\")"
   ]
  },
  {
   "cell_type": "code",
   "execution_count": 11,
   "id": "a444e451-338e-4ce2-af1a-a3471fff19de",
   "metadata": {},
   "outputs": [
    {
     "name": "stdout",
     "output_type": "stream",
     "text": [
      "hello\n",
      "how are\n",
      "you\n"
     ]
    }
   ],
   "source": [
    "say_hello()"
   ]
  },
  {
   "cell_type": "code",
   "execution_count": 27,
   "id": "4354dab1-0b49-4dd9-a4db-7e10a069cafa",
   "metadata": {},
   "outputs": [],
   "source": [
    "def say_hello(name='Harshit'):\n",
    "    print(f'hello {name}')\n",
    "    "
   ]
  },
  {
   "cell_type": "code",
   "execution_count": 28,
   "id": "d189decd-60b3-4f0d-bfc2-888d9e602859",
   "metadata": {},
   "outputs": [
    {
     "name": "stdout",
     "output_type": "stream",
     "text": [
      "hello Harshit\n"
     ]
    }
   ],
   "source": [
    "say_hello()"
   ]
  },
  {
   "cell_type": "code",
   "execution_count": 1,
   "id": "6de93b09-26d3-45f3-8270-58d1170c94d3",
   "metadata": {},
   "outputs": [],
   "source": [
    "def add_num(num1,num2):\n",
    "    return num1+num2"
   ]
  },
  {
   "cell_type": "code",
   "execution_count": 2,
   "id": "25e40a72-6b35-4d2e-9a38-ad41c0ee1552",
   "metadata": {},
   "outputs": [],
   "source": [
    "x=add_num(10,20)"
   ]
  },
  {
   "cell_type": "raw",
   "id": "54062a05-ce19-4d1a-8b3c-7dab433bf9fa",
   "metadata": {},
   "source": [
    "print(x)"
   ]
  },
  {
   "cell_type": "code",
   "execution_count": 3,
   "id": "84f54155-11db-4a74-8acf-49b8530c37bb",
   "metadata": {},
   "outputs": [
    {
     "name": "stdout",
     "output_type": "stream",
     "text": [
      "The factorial of 5 is: 120\n"
     ]
    }
   ],
   "source": [
    "def factorial(n):\n",
    "    \"\"\"\n",
    "    Calculate the factorial of a given number using recursion.\n",
    "\n",
    "    Args:\n",
    "        n (int): The number to calculate the factorial for.\n",
    "\n",
    "    Returns:\n",
    "        int: The factorial of the number.\n",
    "    \"\"\"\n",
    "    if n < 0:\n",
    "        raise ValueError(\"Factorial is not defined for negative numbers.\")\n",
    "    if n == 0 or n == 1:\n",
    "        return 1\n",
    "    return n * factorial(n - 1)\n",
    "\n",
    "# Example usage\n",
    "try:\n",
    "    number = 5\n",
    "    print(f\"The factorial of {number} is: {factorial(number)}\")\n",
    "except ValueError as e:\n",
    "    print(e)\n",
    "\n"
   ]
  },
  {
   "cell_type": "code",
   "execution_count": 2,
   "id": "e75e38ab-540d-49b9-9e88-ba33a68d645e",
   "metadata": {},
   "outputs": [],
   "source": [
    "def add_num(num1,num2):\n",
    "    return num1+num2"
   ]
  },
  {
   "cell_type": "code",
   "execution_count": 3,
   "id": "89e58616-5704-467b-a934-1f54d7787a1c",
   "metadata": {},
   "outputs": [
    {
     "data": {
      "text/plain": [
       "30"
      ]
     },
     "execution_count": 3,
     "metadata": {},
     "output_type": "execute_result"
    }
   ],
   "source": [
    "add_num(10,20)"
   ]
  },
  {
   "cell_type": "code",
   "execution_count": 4,
   "id": "a36a3990-1168-4c9f-afb4-5e647988222e",
   "metadata": {},
   "outputs": [],
   "source": [
    "result = add_num(10,20)"
   ]
  },
  {
   "cell_type": "code",
   "execution_count": 5,
   "id": "6768261d-c701-47df-80d2-50093bbb08ce",
   "metadata": {},
   "outputs": [
    {
     "data": {
      "text/plain": [
       "30"
      ]
     },
     "execution_count": 5,
     "metadata": {},
     "output_type": "execute_result"
    }
   ],
   "source": [
    "result"
   ]
  },
  {
   "cell_type": "code",
   "execution_count": 6,
   "id": "e7466d6f-54d8-47bc-8288-ef660268e196",
   "metadata": {},
   "outputs": [],
   "source": [
    "def print_result(a,b):\n",
    "    print(a+b)"
   ]
  },
  {
   "cell_type": "code",
   "execution_count": 9,
   "id": "846bbc01-9f27-40f4-b1d7-ab9f4ae46e31",
   "metadata": {},
   "outputs": [],
   "source": [
    "def return_result(a,b):\n",
    "    return a+b"
   ]
  },
  {
   "cell_type": "code",
   "execution_count": 8,
   "id": "7e2baab6-167d-4c5c-9969-0d0154946853",
   "metadata": {},
   "outputs": [
    {
     "name": "stdout",
     "output_type": "stream",
     "text": [
      "30\n"
     ]
    }
   ],
   "source": [
    "print_result(10,20)"
   ]
  },
  {
   "cell_type": "code",
   "execution_count": 11,
   "id": "ee29fdec-bb66-47df-9340-bb0c21249821",
   "metadata": {},
   "outputs": [],
   "source": [
    "result = return_result(10,30)"
   ]
  },
  {
   "cell_type": "code",
   "execution_count": 12,
   "id": "b541f73f-639c-4ee7-989e-d964347bac12",
   "metadata": {},
   "outputs": [
    {
     "data": {
      "text/plain": [
       "40"
      ]
     },
     "execution_count": 12,
     "metadata": {},
     "output_type": "execute_result"
    }
   ],
   "source": [
    "result"
   ]
  },
  {
   "cell_type": "code",
   "execution_count": 13,
   "id": "9b10d57b-38ec-489a-bb93-623642cee48d",
   "metadata": {},
   "outputs": [],
   "source": [
    "def myfunc(a,b):\n",
    "    print(a+b)\n",
    "    return a+b"
   ]
  },
  {
   "cell_type": "code",
   "execution_count": 14,
   "id": "88f616fa-6154-4dca-ab9d-8baf393f7110",
   "metadata": {},
   "outputs": [
    {
     "name": "stdout",
     "output_type": "stream",
     "text": [
      "30\n"
     ]
    }
   ],
   "source": [
    "result = myfunc(10,20)"
   ]
  },
  {
   "cell_type": "code",
   "execution_count": 15,
   "id": "a163412a-1ec0-4d68-bf42-af3f4fd1b584",
   "metadata": {},
   "outputs": [
    {
     "data": {
      "text/plain": [
       "30"
      ]
     },
     "execution_count": 15,
     "metadata": {},
     "output_type": "execute_result"
    }
   ],
   "source": [
    "result"
   ]
  },
  {
   "cell_type": "code",
   "execution_count": 16,
   "id": "464a4a85-0537-4004-8f0a-3bc0ec356442",
   "metadata": {},
   "outputs": [],
   "source": [
    "def sum_numbers(num1,num2):\n",
    "    return num1+num2"
   ]
  },
  {
   "cell_type": "code",
   "execution_count": 17,
   "id": "284e52cf-c061-4cc6-ae71-71e8d951d241",
   "metadata": {},
   "outputs": [
    {
     "data": {
      "text/plain": [
       "30"
      ]
     },
     "execution_count": 17,
     "metadata": {},
     "output_type": "execute_result"
    }
   ],
   "source": [
    "sum_numbers(10,20)"
   ]
  },
  {
   "cell_type": "code",
   "execution_count": 18,
   "id": "acd73eb7-5197-44e6-b2c3-ed642e66f2da",
   "metadata": {},
   "outputs": [
    {
     "data": {
      "text/plain": [
       "'1020'"
      ]
     },
     "execution_count": 18,
     "metadata": {},
     "output_type": "execute_result"
    }
   ],
   "source": [
    "sum_numbers('10','20')"
   ]
  },
  {
   "cell_type": "code",
   "execution_count": 21,
   "id": "d1815f5f-c6bd-4735-847b-16add85e1b28",
   "metadata": {},
   "outputs": [],
   "source": [
    "def even_check(number):\n",
    "    \n",
    "    return number %2 ==0"
   ]
  },
  {
   "cell_type": "code",
   "execution_count": 22,
   "id": "5550cd7f-115d-4ba9-a51b-698a8cc7b68a",
   "metadata": {},
   "outputs": [
    {
     "data": {
      "text/plain": [
       "True"
      ]
     },
     "execution_count": 22,
     "metadata": {},
     "output_type": "execute_result"
    }
   ],
   "source": [
    "even_check(10)"
   ]
  },
  {
   "cell_type": "code",
   "execution_count": 26,
   "id": "b02d296d-4cea-4d29-8f18-113c7d2fbd8f",
   "metadata": {},
   "outputs": [],
   "source": [
    "def check_even_list(num_list):\n",
    "\n",
    "    for number in num_list:\n",
    "        if number%2 ==0:\n",
    "            return True\n",
    "        else:\n",
    "            pass\n",
    "    return False"
   ]
  },
  {
   "cell_type": "code",
   "execution_count": 29,
   "id": "f844fef7-3deb-4b3d-b3db-660a77b2dbdc",
   "metadata": {},
   "outputs": [
    {
     "data": {
      "text/plain": [
       "True"
      ]
     },
     "execution_count": 29,
     "metadata": {},
     "output_type": "execute_result"
    }
   ],
   "source": [
    "check_even_list([1,3,5,7,10])"
   ]
  },
  {
   "cell_type": "code",
   "execution_count": 30,
   "id": "6dfbc9b6-1082-4f90-a025-d9c80b95a0fe",
   "metadata": {},
   "outputs": [],
   "source": [
    "def check_even_list(num_list):\n",
    "\n",
    "    even_numbers = []\n",
    "    \n",
    "    for number in num_list:\n",
    "        if number%2 ==0:\n",
    "            even_numbers.append(number)\n",
    "        else:\n",
    "            pass\n",
    "    return even_numbers"
   ]
  },
  {
   "cell_type": "code",
   "execution_count": 31,
   "id": "8c7a17fb-e29b-48f7-94c0-e19975794ae0",
   "metadata": {},
   "outputs": [
    {
     "data": {
      "text/plain": [
       "[2, 4]"
      ]
     },
     "execution_count": 31,
     "metadata": {},
     "output_type": "execute_result"
    }
   ],
   "source": [
    "check_even_list([1,2,3,4])"
   ]
  },
  {
   "cell_type": "code",
   "execution_count": 32,
   "id": "762b9070-ae5e-4ef6-8532-0b1731628f04",
   "metadata": {},
   "outputs": [
    {
     "data": {
      "text/plain": [
       "[]"
      ]
     },
     "execution_count": 32,
     "metadata": {},
     "output_type": "execute_result"
    }
   ],
   "source": [
    "check_even_list([1,3,5])"
   ]
  },
  {
   "cell_type": "code",
   "execution_count": 33,
   "id": "a3327a53-b984-4e5d-809a-2d338cfd1e0d",
   "metadata": {},
   "outputs": [],
   "source": [
    "stock_prices=[('appl',200),('google',400),('microsoft',100)]"
   ]
  },
  {
   "cell_type": "code",
   "execution_count": 34,
   "id": "f88329bb-5252-4ae8-8e48-8958618ad545",
   "metadata": {},
   "outputs": [
    {
     "name": "stdout",
     "output_type": "stream",
     "text": [
      "('appl', 200)\n",
      "('google', 400)\n",
      "('microsoft', 100)\n"
     ]
    }
   ],
   "source": [
    "for item in stock_prices:\n",
    "    print(item)"
   ]
  },
  {
   "cell_type": "code",
   "execution_count": 35,
   "id": "96e0c771-35f9-4b08-9fe7-bb27c4469702",
   "metadata": {},
   "outputs": [
    {
     "name": "stdout",
     "output_type": "stream",
     "text": [
      "220.0\n",
      "440.0\n",
      "110.0\n"
     ]
    }
   ],
   "source": [
    "for ticker,price in stock_prices:\n",
    "    print(price+(0.1*price))"
   ]
  },
  {
   "cell_type": "code",
   "execution_count": 36,
   "id": "4a8593e2-fae1-468c-b4df-8befb829b158",
   "metadata": {},
   "outputs": [],
   "source": [
    "work_hours=[('abby',100),('Billy',400),('cassie',800)]"
   ]
  },
  {
   "cell_type": "code",
   "execution_count": 39,
   "id": "525b8d12-694f-4cdf-b64f-a2a522cd3df5",
   "metadata": {},
   "outputs": [],
   "source": [
    "def emp_check(work_hours):\n",
    "\n",
    "    curr_max=0\n",
    "    emp_of_month=''\n",
    "    for emp,hours in work_hours:\n",
    "        if hours > curr_max:\n",
    "            curr_max=hours\n",
    "            emp_of_month=emp\n",
    "        else: \n",
    "            pass\n",
    "\n",
    "    return(emp_of_month,curr_max)"
   ]
  },
  {
   "cell_type": "code",
   "execution_count": 40,
   "id": "807ed2d1-03fc-4890-b8e1-042f33cc0cc0",
   "metadata": {},
   "outputs": [
    {
     "data": {
      "text/plain": [
       "('cassie', 800)"
      ]
     },
     "execution_count": 40,
     "metadata": {},
     "output_type": "execute_result"
    }
   ],
   "source": [
    "emp_check(work_hours)"
   ]
  },
  {
   "cell_type": "code",
   "execution_count": 41,
   "id": "c3665930-7dd0-44aa-8efc-01e822559529",
   "metadata": {},
   "outputs": [],
   "source": [
    "example = [1,2,3,4,5,6,7]"
   ]
  },
  {
   "cell_type": "code",
   "execution_count": 42,
   "id": "3a8f7b32-20fa-48e1-9203-e3b3ac5d229e",
   "metadata": {},
   "outputs": [],
   "source": [
    "from random import shuffle"
   ]
  },
  {
   "cell_type": "code",
   "execution_count": 43,
   "id": "623023a1-5604-4090-83f7-516646cc9679",
   "metadata": {},
   "outputs": [],
   "source": [
    "shuffle(example)"
   ]
  },
  {
   "cell_type": "code",
   "execution_count": 44,
   "id": "1237e545-e588-4c3c-a795-9bb056ef2819",
   "metadata": {},
   "outputs": [
    {
     "data": {
      "text/plain": [
       "[5, 7, 3, 6, 1, 4, 2]"
      ]
     },
     "execution_count": 44,
     "metadata": {},
     "output_type": "execute_result"
    }
   ],
   "source": [
    "example"
   ]
  },
  {
   "cell_type": "code",
   "execution_count": 45,
   "id": "d9daa218-1b02-4171-8c9f-ffcfc86f5900",
   "metadata": {},
   "outputs": [],
   "source": [
    "def shuffle_list(mylist):\n",
    "    shuffle(mylist)\n",
    "    return mylist"
   ]
  },
  {
   "cell_type": "code",
   "execution_count": 49,
   "id": "801916a7-16f0-4f15-9006-66d7d9d49017",
   "metadata": {},
   "outputs": [],
   "source": [
    "result = shuffle_list(example)"
   ]
  },
  {
   "cell_type": "code",
   "execution_count": 50,
   "id": "ee10a579-d392-4ffa-94c2-85767dfca06e",
   "metadata": {},
   "outputs": [
    {
     "data": {
      "text/plain": [
       "[6, 1, 4, 2, 7, 3, 5]"
      ]
     },
     "execution_count": 50,
     "metadata": {},
     "output_type": "execute_result"
    }
   ],
   "source": [
    "result"
   ]
  },
  {
   "cell_type": "code",
   "execution_count": 51,
   "id": "eec9acb9-fb65-4f8f-9f9d-12fc06869c41",
   "metadata": {},
   "outputs": [
    {
     "data": {
      "text/plain": [
       "[6, 1, 4, 2, 7, 3, 5]"
      ]
     },
     "execution_count": 51,
     "metadata": {},
     "output_type": "execute_result"
    }
   ],
   "source": [
    "result"
   ]
  },
  {
   "cell_type": "code",
   "execution_count": 52,
   "id": "09baffc8-77d7-4781-b1c7-2b20b2c19186",
   "metadata": {},
   "outputs": [],
   "source": [
    "mylist=[' ','0',' ']"
   ]
  },
  {
   "cell_type": "code",
   "execution_count": 53,
   "id": "cc17c6ea-f131-4291-945f-b343793157d3",
   "metadata": {},
   "outputs": [
    {
     "data": {
      "text/plain": [
       "['0', ' ', ' ']"
      ]
     },
     "execution_count": 53,
     "metadata": {},
     "output_type": "execute_result"
    }
   ],
   "source": [
    "shuffle_list(mylist)"
   ]
  },
  {
   "cell_type": "code",
   "execution_count": 54,
   "id": "0ee7f0c4-3f07-4c06-bc8b-32fca672483e",
   "metadata": {},
   "outputs": [],
   "source": [
    "def player_guess():\n",
    "\n",
    "    guess=''\n",
    "\n",
    "    while guess not in ['0','1','2']:\n",
    "        guess = input(\"pick a number:0,1,2\")\n",
    "    \n",
    "    return int(guess)"
   ]
  },
  {
   "cell_type": "markdown",
   "id": "8e604255-db08-490a-8968-1610778b50ce",
   "metadata": {},
   "source": [
    "# player_guess()"
   ]
  },
  {
   "cell_type": "code",
   "execution_count": null,
   "id": "bc574a66-8745-4af8-9e8f-3e7db141c44b",
   "metadata": {},
   "outputs": [],
   "source": []
  },
  {
   "cell_type": "code",
   "execution_count": null,
   "id": "19f27841-094d-4f5c-a333-bfa00d4ad34e",
   "metadata": {},
   "outputs": [],
   "source": []
  },
  {
   "cell_type": "code",
   "execution_count": 3,
   "id": "5158861a-e48d-4f56-abaa-dd7680261311",
   "metadata": {},
   "outputs": [],
   "source": [
    "def say_hello():\n",
    "    print(\"Hello\")\n",
    "    print(\"How\")\n",
    "    print(\"are you ?\")"
   ]
  },
  {
   "cell_type": "code",
   "execution_count": 4,
   "id": "95c6658c-4f9e-4442-a980-de079d319d19",
   "metadata": {},
   "outputs": [
    {
     "name": "stdout",
     "output_type": "stream",
     "text": [
      "Hello\n",
      "How\n",
      "are you ?\n"
     ]
    }
   ],
   "source": [
    "say_hello()"
   ]
  },
  {
   "cell_type": "code",
   "execution_count": 5,
   "id": "9ba9c381-3d8d-4e6f-b165-6b0f7ef09b2b",
   "metadata": {},
   "outputs": [],
   "source": [
    "def say_hello(name):\n",
    "    print(f'Hello {name}')"
   ]
  },
  {
   "cell_type": "code",
   "execution_count": 6,
   "id": "86b47248-d024-4b0f-a2c0-8fac1f4f4f93",
   "metadata": {},
   "outputs": [
    {
     "name": "stdout",
     "output_type": "stream",
     "text": [
      "Hello Jose\n"
     ]
    }
   ],
   "source": [
    "say_hello('Jose')"
   ]
  },
  {
   "cell_type": "code",
   "execution_count": 7,
   "id": "f278cca4-3f2a-4b98-bbd5-48064c836e8f",
   "metadata": {},
   "outputs": [],
   "source": [
    "def add_num(num1,num2):\n",
    "    return num1 + num2"
   ]
  },
  {
   "cell_type": "code",
   "execution_count": 9,
   "id": "8929a735-782e-45b6-8432-52691bb268c9",
   "metadata": {},
   "outputs": [],
   "source": [
    "result = add_num(10,20)"
   ]
  },
  {
   "cell_type": "code",
   "execution_count": 10,
   "id": "f2a9ad0d-cf59-431c-af9e-942917f9792e",
   "metadata": {},
   "outputs": [
    {
     "data": {
      "text/plain": [
       "30"
      ]
     },
     "execution_count": 10,
     "metadata": {},
     "output_type": "execute_result"
    }
   ],
   "source": [
    "result"
   ]
  },
  {
   "cell_type": "code",
   "execution_count": 16,
   "id": "351e1c47-4598-4851-b2ab-e83eb76d3cdd",
   "metadata": {},
   "outputs": [],
   "source": [
    "def print_result(a,b):\n",
    "    print(a+b)"
   ]
  },
  {
   "cell_type": "code",
   "execution_count": 17,
   "id": "354ab9e9-e5c0-412c-af1a-f52d8cf9e2db",
   "metadata": {},
   "outputs": [],
   "source": [
    "def return_result(a,b):\n",
    "    return a+b"
   ]
  },
  {
   "cell_type": "code",
   "execution_count": 18,
   "id": "a3aeeb13-fa39-4d43-9918-43633e8bb59c",
   "metadata": {},
   "outputs": [
    {
     "name": "stdout",
     "output_type": "stream",
     "text": [
      "30\n"
     ]
    }
   ],
   "source": [
    "print_result(10,20)"
   ]
  },
  {
   "cell_type": "code",
   "execution_count": 20,
   "id": "5b6be309-2295-4384-8f36-22961c467cdd",
   "metadata": {},
   "outputs": [],
   "source": [
    "result = return_result(10,20)"
   ]
  },
  {
   "cell_type": "code",
   "execution_count": 21,
   "id": "facb8592-ddec-4b86-9435-e3d625022bdb",
   "metadata": {},
   "outputs": [
    {
     "data": {
      "text/plain": [
       "30"
      ]
     },
     "execution_count": 21,
     "metadata": {},
     "output_type": "execute_result"
    }
   ],
   "source": [
    "result"
   ]
  },
  {
   "cell_type": "code",
   "execution_count": 22,
   "id": "5b63be4a-c26b-4384-8807-d4e8a6d1ed90",
   "metadata": {},
   "outputs": [],
   "source": [
    "def myfunc(a,b):\n",
    "    print(a+b)\n",
    "    return a+b"
   ]
  },
  {
   "cell_type": "code",
   "execution_count": 23,
   "id": "a64d8642-13e7-4712-8921-6b90a0ed0638",
   "metadata": {},
   "outputs": [
    {
     "name": "stdout",
     "output_type": "stream",
     "text": [
      "30\n"
     ]
    }
   ],
   "source": [
    "result = myfunc(10,20)"
   ]
  },
  {
   "cell_type": "code",
   "execution_count": 24,
   "id": "38efb512-7ca4-4d6a-9513-a5e31e81408f",
   "metadata": {},
   "outputs": [
    {
     "data": {
      "text/plain": [
       "30"
      ]
     },
     "execution_count": 24,
     "metadata": {},
     "output_type": "execute_result"
    }
   ],
   "source": [
    "result"
   ]
  },
  {
   "cell_type": "code",
   "execution_count": 25,
   "id": "8e2e3736-eef0-497e-85d3-6f7baa3948c2",
   "metadata": {},
   "outputs": [],
   "source": [
    "def sum_numbers(num1,num2):\n",
    "    return num1+num2"
   ]
  },
  {
   "cell_type": "code",
   "execution_count": 26,
   "id": "a9289767-ae4e-4894-84e3-3a59d20502c6",
   "metadata": {},
   "outputs": [
    {
     "data": {
      "text/plain": [
       "30"
      ]
     },
     "execution_count": 26,
     "metadata": {},
     "output_type": "execute_result"
    }
   ],
   "source": [
    "sum_numbers(10,20)"
   ]
  },
  {
   "cell_type": "code",
   "execution_count": 27,
   "id": "02182efc-9c34-4f12-a958-764109536adb",
   "metadata": {},
   "outputs": [
    {
     "data": {
      "text/plain": [
       "'1020'"
      ]
     },
     "execution_count": 27,
     "metadata": {},
     "output_type": "execute_result"
    }
   ],
   "source": [
    "sum_numbers('10','20')"
   ]
  },
  {
   "cell_type": "code",
   "execution_count": 31,
   "id": "2c95424f-745c-4103-a3da-7255bdd20c55",
   "metadata": {},
   "outputs": [],
   "source": [
    "def even_check(number):\n",
    "    \n",
    "    return number % 2 ==0"
   ]
  },
  {
   "cell_type": "code",
   "execution_count": 32,
   "id": "ce31959f-efc4-4adf-81fb-10a7846fc577",
   "metadata": {},
   "outputs": [
    {
     "data": {
      "text/plain": [
       "True"
      ]
     },
     "execution_count": 32,
     "metadata": {},
     "output_type": "execute_result"
    }
   ],
   "source": [
    "even_check(20)"
   ]
  },
  {
   "cell_type": "code",
   "execution_count": 33,
   "id": "7f4fad82-c65a-49f5-bcda-34aff85f37cf",
   "metadata": {},
   "outputs": [
    {
     "data": {
      "text/plain": [
       "False"
      ]
     },
     "execution_count": 33,
     "metadata": {},
     "output_type": "execute_result"
    }
   ],
   "source": [
    "even_check(21)"
   ]
  },
  {
   "cell_type": "code",
   "execution_count": 34,
   "id": "e9244f3f-f2ca-4b83-b3b8-63494c5ce081",
   "metadata": {},
   "outputs": [],
   "source": [
    "#return if any number is even in a list"
   ]
  },
  {
   "cell_type": "code",
   "execution_count": 35,
   "id": "60c90425-7ed7-4c77-961d-d6e93dc656cb",
   "metadata": {},
   "outputs": [],
   "source": [
    "def check_even_list(num_list):\n",
    "\n",
    "    for number in num_list:\n",
    "        if number % 2 == 0:\n",
    "            return True\n",
    "        else: \n",
    "            pass"
   ]
  },
  {
   "cell_type": "code",
   "execution_count": 38,
   "id": "42e24864-7074-41a1-9f95-893a62f176ed",
   "metadata": {},
   "outputs": [
    {
     "data": {
      "text/plain": [
       "True"
      ]
     },
     "execution_count": 38,
     "metadata": {},
     "output_type": "execute_result"
    }
   ],
   "source": [
    "check_even_list([1,2,3,5])"
   ]
  },
  {
   "cell_type": "code",
   "execution_count": 39,
   "id": "6ca37777-81e8-49e5-84d1-3c909ea05468",
   "metadata": {},
   "outputs": [],
   "source": [
    "def check_even_list(num_list):\n",
    "#return all the even numbers\n",
    "    even_numbers=[]\n",
    "    for number in num_list:\n",
    "        if number % 2 == 0:\n",
    "            even_numbers.append(number)\n",
    "        else: \n",
    "            pass\n",
    "    return even_numbers"
   ]
  },
  {
   "cell_type": "code",
   "execution_count": 40,
   "id": "a4decaaf-ffba-4e47-9e67-3c19779ffce6",
   "metadata": {},
   "outputs": [
    {
     "data": {
      "text/plain": [
       "[2, 4, 6]"
      ]
     },
     "execution_count": 40,
     "metadata": {},
     "output_type": "execute_result"
    }
   ],
   "source": [
    "check_even_list([1,2,3,4,5,6])"
   ]
  },
  {
   "cell_type": "code",
   "execution_count": 41,
   "id": "f59a776d-1bfc-4288-b1cd-66817204123c",
   "metadata": {},
   "outputs": [],
   "source": [
    "stock_prices = [('apple',200),('google',400),('MSFT',100)]"
   ]
  },
  {
   "cell_type": "code",
   "execution_count": 42,
   "id": "d61f0cd5-e7c4-45cc-a99b-a3ffc6f6f975",
   "metadata": {},
   "outputs": [
    {
     "name": "stdout",
     "output_type": "stream",
     "text": [
      "('apple', 200)\n",
      "('google', 400)\n",
      "('MSFT', 100)\n"
     ]
    }
   ],
   "source": [
    "for item in stock_prices:\n",
    "    print(item)"
   ]
  },
  {
   "cell_type": "code",
   "execution_count": 44,
   "id": "1810659a-5d5d-49fb-9298-d2cea0db507c",
   "metadata": {},
   "outputs": [
    {
     "name": "stdout",
     "output_type": "stream",
     "text": [
      "200\n",
      "400\n",
      "100\n"
     ]
    }
   ],
   "source": [
    "for ticker,price in stock_prices:\n",
    "    print(price)"
   ]
  },
  {
   "cell_type": "code",
   "execution_count": 49,
   "id": "d0a55872-a7f3-4320-a7d1-27af751f2e61",
   "metadata": {},
   "outputs": [],
   "source": [
    "work_hours = [('abby',100),('billy',4000),('cassie',800)]"
   ]
  },
  {
   "cell_type": "code",
   "execution_count": 50,
   "id": "04ab293c-93f6-4515-8a9b-1e4421838581",
   "metadata": {},
   "outputs": [],
   "source": [
    "def emp_check(work_hours):\n",
    "\n",
    "    current_max=0\n",
    "    emp_month=''\n",
    "    \n",
    "    for emp,hours in work_hours:\n",
    "        if hours > current_max:\n",
    "            current_max=hours\n",
    "            emp_month = emp\n",
    "        else:\n",
    "            pass\n",
    "    #return \n",
    "    return(emp_month,current_max)"
   ]
  },
  {
   "cell_type": "code",
   "execution_count": 52,
   "id": "5521e01f-9116-4da2-a13a-5f149cebe9a2",
   "metadata": {},
   "outputs": [],
   "source": [
    "result=emp_check(work_hours)"
   ]
  },
  {
   "cell_type": "code",
   "execution_count": 53,
   "id": "5c6614da-1ce5-4e42-90ed-653ff2b4589b",
   "metadata": {},
   "outputs": [],
   "source": [
    "name,hours=emp_check(work_hours)"
   ]
  },
  {
   "cell_type": "code",
   "execution_count": 54,
   "id": "71ac779e-2361-46da-b4b3-909bc4d30209",
   "metadata": {},
   "outputs": [
    {
     "data": {
      "text/plain": [
       "'billy'"
      ]
     },
     "execution_count": 54,
     "metadata": {},
     "output_type": "execute_result"
    }
   ],
   "source": [
    "name"
   ]
  },
  {
   "cell_type": "code",
   "execution_count": 55,
   "id": "2e84627f-b98d-4b0c-823b-1ead766a8681",
   "metadata": {},
   "outputs": [
    {
     "data": {
      "text/plain": [
       "4000"
      ]
     },
     "execution_count": 55,
     "metadata": {},
     "output_type": "execute_result"
    }
   ],
   "source": [
    "hours"
   ]
  },
  {
   "cell_type": "code",
   "execution_count": 56,
   "id": "af22ed3f-1fd9-481e-ad58-c7339d2674c3",
   "metadata": {},
   "outputs": [
    {
     "data": {
      "text/plain": [
       "('billy', 4000)"
      ]
     },
     "execution_count": 56,
     "metadata": {},
     "output_type": "execute_result"
    }
   ],
   "source": [
    "result"
   ]
  },
  {
   "cell_type": "code",
   "execution_count": 57,
   "id": "82e59bc6-f8e6-45f6-af44-1389e708865c",
   "metadata": {},
   "outputs": [
    {
     "data": {
      "text/plain": [
       "'billy'"
      ]
     },
     "execution_count": 57,
     "metadata": {},
     "output_type": "execute_result"
    }
   ],
   "source": [
    "result[0]"
   ]
  },
  {
   "cell_type": "code",
   "execution_count": null,
   "id": "a23c2049-2975-4a93-9d33-8f8ceced738f",
   "metadata": {},
   "outputs": [],
   "source": []
  }
 ],
 "metadata": {
  "kernelspec": {
   "display_name": "Python 3 (ipykernel)",
   "language": "python",
   "name": "python3"
  },
  "language_info": {
   "codemirror_mode": {
    "name": "ipython",
    "version": 3
   },
   "file_extension": ".py",
   "mimetype": "text/x-python",
   "name": "python",
   "nbconvert_exporter": "python",
   "pygments_lexer": "ipython3",
   "version": "3.12.7"
  }
 },
 "nbformat": 4,
 "nbformat_minor": 5
}
