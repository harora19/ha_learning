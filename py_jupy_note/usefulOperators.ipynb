{
 "cells": [
  {
   "cell_type": "code",
   "execution_count": 1,
   "id": "eb052cc9-3865-43cc-85fc-bb9a213d2076",
   "metadata": {},
   "outputs": [],
   "source": [
    "mylist=[1,2,3]"
   ]
  },
  {
   "cell_type": "code",
   "execution_count": 5,
   "id": "bc60efe4-7104-49cb-877d-678ace4cfb0e",
   "metadata": {},
   "outputs": [
    {
     "name": "stdout",
     "output_type": "stream",
     "text": [
      "0\n",
      "2\n",
      "4\n",
      "6\n",
      "8\n",
      "10\n"
     ]
    }
   ],
   "source": [
    "for num in range(0,11,2):\n",
    "    print(num)"
   ]
  },
  {
   "cell_type": "code",
   "execution_count": 7,
   "id": "5e0e08a6-d889-4945-883b-53a1e3143b87",
   "metadata": {},
   "outputs": [
    {
     "data": {
      "text/plain": [
       "[0, 2, 4, 6, 8, 10]"
      ]
     },
     "execution_count": 7,
     "metadata": {},
     "output_type": "execute_result"
    }
   ],
   "source": [
    "list(range(0,11,2))"
   ]
  },
  {
   "cell_type": "code",
   "execution_count": 8,
   "id": "c0e57b93-cf81-40cc-a211-ad390ac48ed7",
   "metadata": {},
   "outputs": [
    {
     "name": "stdout",
     "output_type": "stream",
     "text": [
      "At index 0 the letter is a\n",
      "At index 1 the letter is b\n",
      "At index 2 the letter is c\n",
      "At index 3 the letter is d\n",
      "At index 4 the letter is e\n"
     ]
    }
   ],
   "source": [
    "index_count = 0\n",
    "\n",
    "for letter in 'abcde':\n",
    "    print('At index {} the letter is {}'.format(index_count,letter))\n",
    "    index_count+=1"
   ]
  },
  {
   "cell_type": "code",
   "execution_count": 9,
   "id": "4d2658f0-449b-47b8-8be8-bcc3ccb31440",
   "metadata": {},
   "outputs": [
    {
     "name": "stdout",
     "output_type": "stream",
     "text": [
      "a\n",
      "b\n",
      "c\n",
      "d\n",
      "e\n"
     ]
    }
   ],
   "source": [
    "index_count = 0\n",
    "word = 'abcde'\n",
    "for letter in word:\n",
    "    print(word[index_count])\n",
    "    index_count+=1"
   ]
  },
  {
   "cell_type": "code",
   "execution_count": 11,
   "id": "446a797d-b172-473c-8909-cb51678ce091",
   "metadata": {},
   "outputs": [
    {
     "name": "stdout",
     "output_type": "stream",
     "text": [
      "0\n",
      "a\n",
      "1\n",
      "b\n",
      "2\n",
      "c\n",
      "3\n",
      "d\n",
      "4\n",
      "e\n"
     ]
    }
   ],
   "source": [
    "word = 'abcde'\n",
    "for x,y in enumerate(word):\n",
    "    print(x)\n",
    "    print(y)"
   ]
  },
  {
   "cell_type": "code",
   "execution_count": 15,
   "id": "e049ad60-943b-4a9a-8039-b039ff90687d",
   "metadata": {},
   "outputs": [],
   "source": [
    "mylist1=[1,2,3]\n",
    "mylist2=['a','b','c']\n",
    "mylist3=[100,230,332]"
   ]
  },
  {
   "cell_type": "code",
   "execution_count": 16,
   "id": "8d66df26-6edd-4cf2-b748-c67b9cadcc19",
   "metadata": {},
   "outputs": [
    {
     "name": "stdout",
     "output_type": "stream",
     "text": [
      "(1, 'a', 100)\n",
      "(2, 'b', 230)\n",
      "(3, 'c', 332)\n"
     ]
    }
   ],
   "source": [
    "for item in zip(mylist1,mylist2,mylist3):\n",
    "    print(item)"
   ]
  },
  {
   "cell_type": "code",
   "execution_count": 17,
   "id": "ad02f7e2-3246-4bef-87c2-ac729b350528",
   "metadata": {},
   "outputs": [],
   "source": [
    "from random import shuffle"
   ]
  },
  {
   "cell_type": "code",
   "execution_count": 18,
   "id": "09535ed0-95bf-454d-b5b1-9df5f4f48101",
   "metadata": {},
   "outputs": [],
   "source": [
    "mylist = [1,2,3,4,5,6,7,8,9,10]"
   ]
  },
  {
   "cell_type": "code",
   "execution_count": 21,
   "id": "ecfee31a-800a-4f5a-ac1f-c2c0dd775312",
   "metadata": {},
   "outputs": [],
   "source": [
    "shuffle(mylist)"
   ]
  },
  {
   "cell_type": "code",
   "execution_count": 22,
   "id": "71a2c6b5-d533-4e83-8cbe-7dfe25c6d649",
   "metadata": {},
   "outputs": [
    {
     "data": {
      "text/plain": [
       "[4, 9, 3, 8, 1, 10, 2, 7, 5, 6]"
      ]
     },
     "execution_count": 22,
     "metadata": {},
     "output_type": "execute_result"
    }
   ],
   "source": [
    "mylist"
   ]
  },
  {
   "cell_type": "code",
   "execution_count": 23,
   "id": "4be2e710-84e9-4776-8757-b922f1d24c38",
   "metadata": {},
   "outputs": [],
   "source": [
    "from random import randint"
   ]
  },
  {
   "cell_type": "code",
   "execution_count": 26,
   "id": "22dd4ee5-8360-43aa-8687-768d7b5b7721",
   "metadata": {},
   "outputs": [],
   "source": [
    "mynum = randint(0,100)"
   ]
  },
  {
   "cell_type": "code",
   "execution_count": 27,
   "id": "b3002960-967b-4c91-898a-4a4da9f871a4",
   "metadata": {},
   "outputs": [
    {
     "data": {
      "text/plain": [
       "68"
      ]
     },
     "execution_count": 27,
     "metadata": {},
     "output_type": "execute_result"
    }
   ],
   "source": [
    "mynum"
   ]
  },
  {
   "cell_type": "code",
   "execution_count": 31,
   "id": "53f01bf8-f766-49c0-8281-c54279a044ca",
   "metadata": {},
   "outputs": [
    {
     "name": "stdin",
     "output_type": "stream",
     "text": [
      "what is ur name: manu\n"
     ]
    }
   ],
   "source": [
    "result = input('what is ur name:')"
   ]
  },
  {
   "cell_type": "code",
   "execution_count": 32,
   "id": "a413fb20-04eb-4296-bd27-7df1c2a73a78",
   "metadata": {},
   "outputs": [
    {
     "data": {
      "text/plain": [
       "str"
      ]
     },
     "execution_count": 32,
     "metadata": {},
     "output_type": "execute_result"
    }
   ],
   "source": [
    "type(result)"
   ]
  },
  {
   "cell_type": "code",
   "execution_count": null,
   "id": "57aa154b-37b2-40e3-ac63-fedbd54ee418",
   "metadata": {},
   "outputs": [],
   "source": []
  }
 ],
 "metadata": {
  "kernelspec": {
   "display_name": "Python 3 (ipykernel)",
   "language": "python",
   "name": "python3"
  },
  "language_info": {
   "codemirror_mode": {
    "name": "ipython",
    "version": 3
   },
   "file_extension": ".py",
   "mimetype": "text/x-python",
   "name": "python",
   "nbconvert_exporter": "python",
   "pygments_lexer": "ipython3",
   "version": "3.12.4"
  }
 },
 "nbformat": 4,
 "nbformat_minor": 5
}
